{
 "cells": [
  {
   "cell_type": "markdown",
   "metadata": {},
   "source": [
    "## GridSearchCV hyperparameter tuning riddle\n",
    "I fitted a basic XGBoost model to have something as a benchmark, then I wanted to optimize hyperparameters with GridSearchCV. I expected a decrease of MAE as a result of this, but I found that it actually increased. I cannot wrap my head around it, because the parameter grid that I used contains the values that is used in the benchmark model, and the CV folds are also the same. It seems to me that GridSearchCV selects a model which is inferior to the one I started with.\n",
    "\n",
    "What am I missing here? How can this happen?"
   ]
  },
  {
   "cell_type": "code",
   "execution_count": 1,
   "metadata": {
    "ExecuteTime": {
     "end_time": "2019-05-21T14:49:15.782855Z",
     "start_time": "2019-05-21T14:49:13.743024Z"
    }
   },
   "outputs": [],
   "source": [
    "# Load packages\n",
    "import pandas as pd\n",
    "import numpy as np\n",
    "from sklearn.metrics import mean_absolute_error\n",
    "from sklearn.model_selection import train_test_split\n",
    "from sklearn.pipeline import make_pipeline, Pipeline\n",
    "from sklearn.preprocessing import Imputer\n",
    "from sklearn.model_selection import cross_val_score, GridSearchCV\n",
    "from xgboost import XGBRegressor\n",
    "from sklearn.model_selection import KFold\n",
    "\n",
    "# Ignore warnings\n",
    "import sys\n",
    "if not sys.warnoptions:\n",
    "    import warnings\n",
    "    warnings.simplefilter(\"ignore\")"
   ]
  },
  {
   "cell_type": "code",
   "execution_count": null,
   "metadata": {},
   "outputs": [],
   "source": [
    "train_file_path = 'housing_train.csv'\n",
    "train_data = pd.read_csv(train_file_path)\n",
    "\n",
    "test_file_path = 'housing_test.csv'\n",
    "test_data = pd.read_csv(test_file_path)\n",
    "\n",
    "y = train_data.SalePrice\n",
    "features = train_data.columns.drop(['SalePrice', 'Neighborhood', 'Exterior1st', 'Exterior2nd', \n",
    "                                    'Alley', 'PoolQC', 'Fence',  'MiscFeature'])\n",
    "features_short_list = ['OverallQual', 'GrLivArea', 'YearBuilt', 'TotalBsmtSF', 'OverallCond', 'BsmtFinSF1', \n",
    "                       'LotArea', 'YearRemodAdd', '2ndFlrSF', 'GarageCars', 'Fireplaces', 'GarageArea', 'GarageYrBlt', \n",
    "                       'BsmtQual_Ex', 'Functional_Typ', 'PoolArea', 'ScreenPorch', 'MSZoning_RM', 'MasVnrArea', \n",
    "                       'WoodDeckSF', 'BsmtFinType1_GLQ', 'HalfBath', 'KitchenQual_Gd', 'CentralAir_N', '1stFlrSF', \n",
    "                       'KitchenAbvGr', 'BsmtFinSF2', 'TotRmsAbvGrd', 'SaleCondition_Family', 'BsmtUnfSF', 'ExterQual_Gd', \n",
    "                       'FullBath', 'KitchenQual_TA', 'BsmtFullBath', 'LowQualFinSF', 'RoofMatl_WdShngl', 'Condition1_Norm',\n",
    "                       'MSZoning_FV', 'BsmtExposure_Gd', 'MoSold', 'Condition1_RRAe', 'MSZoning_RL', \n",
    "                       'SaleCondition_Abnorml', 'GarageQual_TA', 'BsmtExposure_No', 'FireplaceQu_Gd', \n",
    "                       'LotConfig_CulDSac', 'GarageType_Attchd', 'LotConfig_FR2', 'SaleType_CWD', 'PavedDrive_Y', \n",
    "                       'GarageType_Detchd', 'Condition1_PosN', 'Condition1_Artery', 'MSZoning_C (all)', 'BsmtCond_Fa', \n",
    "                       'LandSlope_Mod', 'HeatingQC_Ex', 'RoofMatl_Tar&Grv', 'Functional_Mod', 'EnclosedPorch', \n",
    "                       'LandSlope_Gtl', 'BsmtFinType2_ALQ', 'BsmtFinType1_ALQ', 'BsmtFinType1_LwQ', '3SsnPorch']\n",
    "\n",
    "X = train_data[features]\n",
    "X_test = test_data[features]\n",
    "\n",
    "X_one_hot_encoded = pd.get_dummies(X).loc[:,features_short_list]\n",
    "\n",
    "X_train_one_hot_encoded, X_val_one_hot_encoded, y_train, y_val = train_test_split(X_one_hot_encoded, y, random_state = 1)"
   ]
  },
  {
   "cell_type": "code",
   "execution_count": null,
   "metadata": {},
   "outputs": [],
   "source": [
    "# GridSearchCV Brute-force\n",
    "pipeline_XGB = Pipeline([('imputer', Imputer(axis=0)), ('xgbrg', XGBRegressor())])\n",
    "\n",
    "param_grid = {\n",
    "    \"xgbrg__n_estimators\": [100, 200, 300, 500, 1000, 2000],\n",
    "    \"xgbrg__learning_rate\": [0.01, 0.05, 0.075, 0.1],\n",
    "    \"xgbrg__subsample\": [0.6, 0.7, 0.8, 0.9, 1]\n",
    "}\n",
    "\n",
    "fit_params = {\"xgbrg__eval_set\": [(np.array(X_val_one_hot_encoded),  y_val)], \n",
    "              \"xgbrg__early_stopping_rounds\": 1000, \n",
    "              \"xgbrg__verbose\": False} \n",
    "\n",
    "searchCV = GridSearchCV(pipeline_XGB, cv=KFold(n_splits=3), scoring = 'neg_mean_absolute_error', n_jobs=4,\n",
    "                        param_grid=param_grid, fit_params=fit_params)\n",
    "searchCV.fit(np.array(X_train_one_hot_encoded), y_train)\n",
    "print(searchCV.best_params_)"
   ]
  },
  {
   "cell_type": "code",
   "execution_count": 20,
   "metadata": {
    "ExecuteTime": {
     "end_time": "2019-05-21T15:05:07.253646Z",
     "start_time": "2019-05-21T15:04:51.060954Z"
    }
   },
   "outputs": [
    {
     "name": "stdout",
     "output_type": "stream",
     "text": [
      "[-14229.77359792 -15794.87814425 -15348.03788902]\n",
      "Mean Absolute Error 15124.229877\n"
     ]
    }
   ],
   "source": [
    "# Use the best parameters from Grid Search, and calculate MAE\n",
    "pipeline_XGB_BF = make_pipeline(\n",
    "    Imputer(), \n",
    "    XGBRegressor(n_estimators=searchCV.best_params_[\"xgbrg__n_estimators\"], \n",
    "                 learning_rate=searchCV.best_params_[\"xgbrg__learning_rate\"],\n",
    "                 subsample=searchCV.best_params_[\"xgbrg__subsample\"],                           \n",
    "                 n_jobs=4,\n",
    "                 verbose=0))\n",
    "\n",
    "pipeline_XGB_BF.fit(X_train_one_hot_encoded, y_train)\n",
    "\n",
    "scores = cross_val_score(pipeline_XGB_BF, X_one_hot_encoded, y, cv=searchCV.cv, scoring='neg_mean_absolute_error')\n",
    "print(scores)\n",
    "print('Mean Absolute Error %2f' %(-1 * scores.mean()))"
   ]
  },
  {
   "cell_type": "code",
   "execution_count": 21,
   "metadata": {
    "ExecuteTime": {
     "end_time": "2019-05-21T15:06:35.783600Z",
     "start_time": "2019-05-21T15:06:28.298898Z"
    }
   },
   "outputs": [
    {
     "name": "stdout",
     "output_type": "stream",
     "text": [
      "[-14263.05455916 -16332.07410646 -16203.03404707]\n",
      "Mean Absolute Error 15599.387571\n"
     ]
    }
   ],
   "source": [
    "# Benchmark model\n",
    "pipeline_XGB_benchmark = make_pipeline(\n",
    "    Imputer(), \n",
    "    XGBRegressor(n_estimators=1000, \n",
    "                 learning_rate=0.05,\n",
    "#                  early_stopping_rounds = 2,\n",
    "                 subsample = 1,\n",
    "                 eval_set= [(X_val_one_hot_encoded,  y_val)],\n",
    "                 verbose= 0))\n",
    "pipeline_XGB_benchmark.fit(X_train_one_hot_encoded, y_train)\n",
    "\n",
    "scores = cross_val_score(pipeline_XGB_benchmark, X_one_hot_encoded, y, cv=searchCV.cv, scoring='neg_mean_absolute_error')\n",
    "print(scores)\n",
    "print('Mean Absolute Error %2f' %(-1 * scores.mean()))"
   ]
  },
  {
   "cell_type": "code",
   "execution_count": null,
   "metadata": {},
   "outputs": [],
   "source": []
  }
 ],
 "metadata": {
  "hide_input": false,
  "kernelspec": {
   "display_name": "Python 3.6 (tensorflow)",
   "language": "python",
   "name": "tensorflow"
  },
  "language_info": {
   "codemirror_mode": {
    "name": "ipython",
    "version": 3
   },
   "file_extension": ".py",
   "mimetype": "text/x-python",
   "name": "python",
   "nbconvert_exporter": "python",
   "pygments_lexer": "ipython3",
   "version": "3.6.8"
  },
  "toc": {
   "base_numbering": 1,
   "nav_menu": {},
   "number_sections": false,
   "sideBar": true,
   "skip_h1_title": false,
   "title_cell": "Table of Contents",
   "title_sidebar": "Contents",
   "toc_cell": false,
   "toc_position": {},
   "toc_section_display": true,
   "toc_window_display": true
  },
  "varInspector": {
   "cols": {
    "lenName": 16,
    "lenType": 16,
    "lenVar": 40
   },
   "kernels_config": {
    "python": {
     "delete_cmd_postfix": "",
     "delete_cmd_prefix": "del ",
     "library": "var_list.py",
     "varRefreshCmd": "print(var_dic_list())"
    },
    "r": {
     "delete_cmd_postfix": ") ",
     "delete_cmd_prefix": "rm(",
     "library": "var_list.r",
     "varRefreshCmd": "cat(var_dic_list()) "
    }
   },
   "types_to_exclude": [
    "module",
    "function",
    "builtin_function_or_method",
    "instance",
    "_Feature"
   ],
   "window_display": false
  }
 },
 "nbformat": 4,
 "nbformat_minor": 2
}
