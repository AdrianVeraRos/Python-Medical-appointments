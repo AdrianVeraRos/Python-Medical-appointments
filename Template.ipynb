{
 "cells": [
  {
   "cell_type": "code",
   "execution_count": null,
   "metadata": {
    "code_folding": [
     0
    ]
   },
   "outputs": [],
   "source": [
    "# EDA imports\n",
    "import pandas as pd\n",
    "import numpy as np\n",
    "import matplotlib.pyplot as plt\n",
    "plt.style.use('bmh')\n",
    "import seaborn as sns\n",
    "import pandas_profiling\n",
    "import warnings\n",
    "warnings.filterwarnings('ignore')\n",
    "%matplotlib inline"
   ]
  },
  {
   "cell_type": "code",
   "execution_count": null,
   "metadata": {
    "code_folding": [
     0
    ]
   },
   "outputs": [],
   "source": [
    "# data load\n",
    "df = pd.read_csv('path')\n",
    "\n",
    "#if not, go to document 8 to check SQL and html queries"
   ]
  },
  {
   "cell_type": "code",
   "execution_count": null,
   "metadata": {
    "code_folding": [
     0
    ]
   },
   "outputs": [],
   "source": [
    "# Merge, join, concatenate\n",
    "\n",
    "# concat simply adds data\n",
    "pd.concat([df1,df2,df3])           # concatenate the rows depending on the columns\n",
    "pd.concat([df1,df2,df3],axis=1)    # dimenssions should match in the axis \n",
    "    \n",
    "# merge is SQL joins merging on a column key   \n",
    "pd.merge(left,right,how='inner',on='key')                  # 1 key, inner\n",
    "pd.merge(left, right, on=['key1', 'key2'])                 # 2 keys, inner by defect\n",
    "pd.merge(left, right, how='outer', on=['key1', 'key2'])    # 2 keys, outer by defect\n",
    "pd.merge(left, right, how='right', on=['key1', 'key2'])\n",
    "pd.merge(left, right, how='left', on=['key1', 'key2'])\n",
    "\n",
    "\n",
    "# join is for combining columns of two potentially diferently-indexed dataframes, keys is in index\n",
    "left.join(right)\n",
    "left.join(right, how='outer')"
   ]
  },
  {
   "cell_type": "code",
   "execution_count": null,
   "metadata": {
    "code_folding": []
   },
   "outputs": [],
   "source": [
    "# basic df info\n",
    "df.head(10)\n",
    "df.shape\n",
    "df.columns\n",
    "df.info()\n",
    "df.describe()\n",
    "df.corr()\n",
    "data.isnull().sum()\n",
    "\n",
    "# percentage of missing values\n",
    "df.isnull().sum()/len(df)\n",
    "\n",
    "# Will drop all rows that have any missing values.\n",
    "dataframe.dropna(inplace=True)\n",
    "\n",
    "## Fill missing values in Age feature with each sex’s mean value of ## Age \n",
    "train['Age'].fillna(train.groupby('Sex')['Age'].transform(\"mean\"), inplace=True)\n",
    "## Fill missing values in Age feature with each sex’s median value ## of Age \n",
    "train['Age'].fillna(train.groupby('Sex')['Age'].transform(\"median\"), inplace=True)\n",
    "\n",
    "\n",
    "#We print the unique data in order to find possible outliers, errors and to better understand the data structure\n",
    "\n",
    "print('Age:',sorted(medapp.Age.unique()))\n",
    "\n",
    "print(medapp['Age'].value_counts().sort_index())\n",
    "\n",
    "medapp.loc[medapp['Appointment_weekday'] == \"5\"]\n",
    "\n",
    "medapp = medapp[(medapp.Age >= 0) & (medapp.Age <= 100)]\n",
    "medapp = medapp[(medapp.Days_to_Appointment >= 0)]\n",
    "\n",
    "\n",
    "# `dropna = False` makes nunique treat NaNs as a distinct value\n",
    "feats_counts = train.nunique(dropna = False)\n",
    "feats_counts.sort_values()[:10]\n",
    "# drop columns with unique = 1"
   ]
  },
  {
   "cell_type": "code",
   "execution_count": null,
   "metadata": {
    "code_folding": [
     0
    ]
   },
   "outputs": [],
   "source": [
    "# pandas profiling\n",
    "pandas_profiling.ProfileReport(data)"
   ]
  },
  {
   "cell_type": "code",
   "execution_count": null,
   "metadata": {
    "code_folding": [
     0
    ]
   },
   "outputs": [],
   "source": [
    "# Univariate study & outliers\n",
    "df['Dependent'].describe()\n",
    "df['A'].hist()\n",
    "sns.distplot(df['Y']) #bins=\n",
    "\n",
    "\n",
    "# outliers\n",
    "Outlier are smaller than Q1 - 1.5(Q3-Q1) and bigger than Q3 + 1.5(Q3-Q1). (Q3-Q1) = IQR \n",
    "\n",
    "UPPERBOUND,LOWERBOUND = np.percentile(x,[1,99])\n",
    "x_clip = np.clip(x,UPPERBOUND,LOWERBOUND)\n",
    "\n",
    "\n",
    "# Visualization below"
   ]
  },
  {
   "cell_type": "code",
   "execution_count": null,
   "metadata": {
    "code_folding": [
     0
    ]
   },
   "outputs": [],
   "source": [
    "# Bivariate Study\n",
    "data.groupby(['Sex','Survived'])['Survived'].count()\n",
    "\n",
    "medapp.groupby([\"Binned_age\"])['Show'].mean().to_frame().style.background_gradient(cmap='summer_r')\n",
    "\n",
    "pd.crosstab(data.Pclass,data.Survived,\n",
    "            margins=True).style.background_gradient(cmap='summer_r')\n",
    "\n",
    "# visualization below\n",
    "sns.boxplot(x,y,data,pallete, orient) # pallete='rainbow' orient = 0h'\n"
   ]
  },
  {
   "cell_type": "code",
   "execution_count": null,
   "metadata": {
    "code_folding": [
     0
    ]
   },
   "outputs": [],
   "source": [
    "# Correlation\n",
    "sns.heatmap(data.corr(),cmap='coolwarm',annot=True)\n",
    "\n",
    "#Dependent correlation matrix\n",
    "k = 10 #number of variables for heatmap\n",
    "cols = corrmat.nlargest(k, 'Dependent')['Dependent'].index\n",
    "cm = np.corrcoef(df[cols].values.T)\n",
    "sns.set(font_scale=1.25)\n",
    "hm = sns.heatmap(cm, cbar=True, annot=True, square=True, fmt='.2f', annot_kws={'size': 10}, yticklabels=cols.values, xticklabels=cols.values)\n",
    "plt.show()"
   ]
  },
  {
   "cell_type": "code",
   "execution_count": null,
   "metadata": {
    "code_folding": [
     0
    ]
   },
   "outputs": [],
   "source": [
    "# outliers\n",
    "\n",
    "Outlier are smaller than Q1 - 1.5(Q3-Q1) and bigger than Q3 + 1.5(Q3-Q1). (Q3-Q1) = IQR \n"
   ]
  },
  {
   "cell_type": "code",
   "execution_count": null,
   "metadata": {
    "code_folding": [
     0
    ]
   },
   "outputs": [],
   "source": [
    "# Missing data\n",
    "\n",
    "from sklearn.preprocessing import Imputer\n",
    "imputer = Imputer(missing_values = np.nan, strategy='mean', axis = 0)\n",
    "# missing values as np.nan \n",
    "# strategy as mean, mediam or most_frequent\n",
    "# axis: 0 = column, 1 = row\n",
    "\n",
    "imputer = imputer.fit(X[:,1:3])\n",
    "# we fit the imputer to the columns we want to change\n",
    "# select the right columns (error with strings: France could not be converted to float)\n",
    "\n",
    "X[:,1:3] = imputer.transform(X[:,1:3])\n",
    "#transform the matrix to fillna\n",
    "\n",
    "\n",
    "\n",
    "### FREQUENCY ENCODING\n",
    "encoding = titanic.groupby('Embarked').size()\n",
    "encoding = encoding/len(titanic)\n",
    "titanic['enc'] = titanic.Embarked.map(encoding)\n"
   ]
  },
  {
   "cell_type": "code",
   "execution_count": null,
   "metadata": {
    "code_folding": [
     0
    ]
   },
   "outputs": [],
   "source": [
    "# changing columns order/name \n",
    "\n",
    "medapp = medapp[['PatientId', 'AppointmentID', 'Gender', 'ScheduledDay', 'AppointmentDay', \n",
    "                   'Days_to_Appointment']]\n",
    "\n",
    "#Changing name in columns:\n",
    "\n",
    "medapp.columns = ['PatientId', 'AppointmentID', 'Gender', 'ScheduledDay', 'AppointmentDay', \n",
    "                   'Days_to_Appointment']"
   ]
  },
  {
   "cell_type": "code",
   "execution_count": null,
   "metadata": {
    "code_folding": [
     0
    ]
   },
   "outputs": [],
   "source": [
    "# ML x/y separation (for more ML go to SKlearn)\n",
    "\n",
    "x,y = data.loc[:,data.columns != 'y'], data.loc[:,'y']"
   ]
  },
  {
   "cell_type": "markdown",
   "metadata": {
    "heading_collapsed": true
   },
   "source": [
    "## Variable transformation and creation"
   ]
  },
  {
   "cell_type": "code",
   "execution_count": null,
   "metadata": {
    "code_folding": [
     0
    ],
    "hidden": true
   },
   "outputs": [],
   "source": [
    "# regex\n",
    "https://regex101.com/\n",
    "    \n",
    "import re\n",
    "\n",
    "lower = re.compile(r'^([a-z]|_)*$')\n",
    "lower_colon = re.compile(r'^([a-z]|_)*:([a-z]|_)*$')\n",
    "problemchars = re.compile(r'[=\\+/&<>;\\'\"\\?%#$@\\,\\. \\t\\r\\n]')\n",
    "\n",
    "\n",
    "data['Initial']=0\n",
    "for i in data:\n",
    "    data['Initial']=data.Name.str.extract('([A-Za-z]+)\\.') #lets extract the Salutations\n",
    "    \n",
    "data['Initial'].replace(['Mlle','Mme','Ms','Dr','Major','Lady','Countess','Jonkheer','Col','Rev','Capt','Sir','Don'],\n",
    "                        ['Miss','Miss','Miss','Mr','Mr','Mrs','Mrs','Other','Other','Other','Mr','Mr','Mr'],inplace=True)"
   ]
  },
  {
   "cell_type": "code",
   "execution_count": null,
   "metadata": {
    "code_folding": [
     0
    ],
    "hidden": true
   },
   "outputs": [],
   "source": [
    "# Distribution normalization\n",
    "# If positive skewness (izq): log \n",
    "df_train['SalePrice'] = np.log(df_train['SalePrice'])\n",
    "\n",
    "# If negative skewness(dcha): exponential (\n",
    "df_train['SalePrice'] = np.exp(df_train['SalePrice'])"
   ]
  },
  {
   "cell_type": "code",
   "execution_count": null,
   "metadata": {
    "code_folding": [
     0
    ],
    "hidden": true
   },
   "outputs": [],
   "source": [
    "# lambda\n",
    "sample['PR'] = sample['PR'].apply(lambda x: 'NaN' if x < 90 else x)\n",
    "data.HP.apply(lambda n : n/2)\n"
   ]
  },
  {
   "cell_type": "code",
   "execution_count": null,
   "metadata": {
    "code_folding": [
     0
    ],
    "hidden": true
   },
   "outputs": [],
   "source": [
    "# list comprehension\n",
    "\n",
    "medapp.loc[medapp[\"No-show\"] ==\"No\", 'No-show'] = \"1\"\n",
    "\n",
    "threshold = sum(data.Speed)/len(data.Speed)\n",
    "data[\"speed_level\"] = [\"high\" if i > threshold else \"low\" for i in data.Speed]\n",
    "\n",
    "for dataset in flights:\n",
    "    flights.loc[flights['ArrDelay'] <= 15, 'Status'] = 0\n",
    "    flights.loc[flights['ArrDelay'] >= 15, 'Status'] = 1\n",
    "    flights.loc[flights['ArrDelay'] >= 60, 'Status'] = 2"
   ]
  },
  {
   "cell_type": "code",
   "execution_count": null,
   "metadata": {
    "ExecuteTime": {
     "end_time": "2019-05-21T18:58:34.095059Z",
     "start_time": "2019-05-21T18:58:33.930153Z"
    },
    "code_folding": [
     0
    ],
    "hidden": true,
    "hide_input": false
   },
   "outputs": [],
   "source": [
    "# other\n",
    "medapp[\"Days_to_Appointment\"] = medapp.AppointmentDay - medapp.ScheduledDay\n",
    "medapp.Days_to_Appointment = medapp.Days_to_Appointment.dt.days.astype(int)\n",
    "\n",
    "def converter(cluster):\n",
    "    if cluster=='Yes':\n",
    "        return 1\n",
    "    else:\n",
    "        return 0\n",
    "    \n",
    "df['Cluster'] = df['Private'].apply(converter)\n",
    "\n",
    "\n",
    "# Combining distances (teorema pitagoras):\n",
    "vertical, horizontal\n",
    "Combined = (horizontal**2 + vertical **2) **0,5\n",
    "\n",
    "# fractional part for prices to measure sentiment\n",
    "price = 0.99, 2.49\n",
    "fraction = 0.99, 0.49\n"
   ]
  },
  {
   "cell_type": "code",
   "execution_count": null,
   "metadata": {
    "code_folding": [],
    "hidden": true
   },
   "outputs": [],
   "source": [
    "# binning\n",
    "# We can also bin to a higher level, like postal codes\n",
    "# First value -1, to include 0\n",
    "\n",
    "waitbins = [-1, 5, 12, 18, 35, 60, 180]\n",
    "waitlabels = [\"Babies and toddlers\", \"Children\",\"Teen\", \"Young Adults\", \"Adults\", \"Senior\"]\n",
    "binned_age = pd.cut(medapp['Age'], waitbins, labels=waitlabels)\n",
    "medapp['Binned_age'] = binned_age"
   ]
  },
  {
   "cell_type": "markdown",
   "metadata": {
    "hidden": true
   },
   "source": [
    "Date and time\n",
    "\n",
    "1. Periodicity\n",
    "\n",
    "    - Day number in week, month, season, year, second, minute, hour\n",
    "\n",
    "\n",
    "2. Time since\n",
    "    - a. Row independent moment\n",
    "    - b. Row dependent important moment: number of days left until next/last holidays\n",
    "\n",
    "3. Difference between dates\n",
    "    - datetime_feature_1 - datetime_feature_2"
   ]
  },
  {
   "cell_type": "code",
   "execution_count": null,
   "metadata": {
    "code_folding": [],
    "hidden": true
   },
   "outputs": [],
   "source": [
    "# Dates\n",
    "import datetime as dt\n",
    "\n",
    "# Columns with Year/month/day of month\n",
    "flights['DepDate'] = pd.to_datetime(flights.Year*10000+flights.Month*100+flights.DayofMonth,format='%Y%m%d')\n",
    "\n",
    "\n",
    "medapp[\"Days_to_Appointment\"] = medapp.AppointmentDay - medapp.ScheduledDay\n",
    "medapp.Days_to_Appointment = medapp.Days_to_Appointment.dt.days.astype(int)\n",
    "\n",
    "medapp['PatientId'] = medapp['PatientId'].apply(np.int64)\n",
    "\n",
    "\n",
    "medapp[\"Appointment_weekday\"] = medapp.AppointmentDay.dt.weekday"
   ]
  },
  {
   "cell_type": "markdown",
   "metadata": {
    "hidden": true
   },
   "source": [
    "### Dummy variables\n"
   ]
  },
  {
   "cell_type": "code",
   "execution_count": null,
   "metadata": {
    "ExecuteTime": {
     "end_time": "2019-05-22T09:05:55.379690Z",
     "start_time": "2019-05-22T09:05:55.326721Z"
    },
    "code_folding": [
     0
    ],
    "hidden": true
   },
   "outputs": [],
   "source": [
    "# Separate in df dummies (don't forget to drop)\n",
    "data = pd.read_csv('column_2C_weka.csv')\n",
    "# get_dummies\n",
    "df = pd.get_dummies(data)\n",
    "df.head(10)"
   ]
  },
  {
   "cell_type": "code",
   "execution_count": null,
   "metadata": {
    "code_folding": [
     0
    ],
    "hidden": true
   },
   "outputs": [],
   "source": [
    "#Enconde from categorical to numerical/ordinal\n",
    "from sklearn.preprocessing import LabelEncoder \n",
    "\n",
    "labelencoder_X = LabelEncoder()\n",
    "X[:,0] = labelencoder_X.fit_transform(X[:,0])\n",
    "print(X)"
   ]
  },
  {
   "cell_type": "code",
   "execution_count": null,
   "metadata": {
    "code_folding": [],
    "hidden": true
   },
   "outputs": [],
   "source": [
    "# New columns for each value in coded column (avoids ordering)\n",
    "from sklearn.preprocessing import OneHotEncoder \n",
    "\n",
    "onehotencoder = OneHotEncoder(categorical_features = [0])\n",
    "X = onehotencoder.fit_transform(X).toarray()\n",
    "\n",
    "#Avoiding the Dummy Variable Trap (redundant & linear dependencies)\n",
    "x = x[:,1:] # where column 0 is a dummy variable, generated by onehotencoder\n",
    "\n",
    "\"\"\"Secondly, you may not be able to drop one dummy variable in order to avoid multicollinearity after fitting OHE as \n",
    "there are no separate variables in the dataframe. One way to address this problem is to use regularization \n",
    "(Lasso) with the model to drop redundant dummies. As there are two dummies which provide the exact same information, \n",
    "one of them must be dropped when minimizing the regularization term in the cost function.\"\"\""
   ]
  },
  {
   "cell_type": "markdown",
   "metadata": {
    "hidden": true
   },
   "source": [
    "### Visualization"
   ]
  },
  {
   "cell_type": "code",
   "execution_count": null,
   "metadata": {
    "code_folding": [],
    "hidden": true
   },
   "outputs": [],
   "source": [
    "# pandas visualization\n",
    "data['A'].hist()\n",
    "data.plot.area(alpha=0.4)\n",
    "data.plot.bar(stacked=True)"
   ]
  },
  {
   "cell_type": "code",
   "execution_count": null,
   "metadata": {
    "code_folding": [],
    "hidden": true
   },
   "outputs": [],
   "source": [
    "# visualization distribution \n",
    "sns.distplot(df['Y']) #bins=\n",
    "sns.joinplot(x='x',y='y',data=data,kind=)\n",
    "sns.pairplot(data)         # hue = categorical, palette = 'coolwarm'    \n",
    "             \n",
    "\"\"\"\n",
    "kind = \n",
    "scatter = scatterplot\n",
    "reg = regression\n",
    "kde = kernek density estimations: replace each observation with gaussian dist\n",
    "hex = hexagonal\n",
    "\"\"\""
   ]
  },
  {
   "cell_type": "code",
   "execution_count": null,
   "metadata": {
    "code_folding": [
     0
    ],
    "hidden": true
   },
   "outputs": [],
   "source": [
    "# visualization regression\n",
    "\n",
    "sns.lmplot(x,y,data)\n",
    "sns.set_context('poster',font_scale=2)\n",
    "# hue\n",
    "# makers"
   ]
  },
  {
   "cell_type": "code",
   "execution_count": null,
   "metadata": {
    "code_folding": [
     0
    ],
    "hidden": true
   },
   "outputs": [],
   "source": [
    "# visualization categorical\n",
    "sns.barplot(x,y,data,estimator)  #estimator = np.log    based in the mean\n",
    "sns.countplot(x,data)\n",
    "sns.boxplot(x,y,data,pallete, orient) # pallete='rainbow' orient = 0h'\n",
    "sns.violinplot\n",
    "sns.stripplot(x,y,data,jitter=True, alpha =)\n",
    "sns.swarmplot"
   ]
  },
  {
   "cell_type": "code",
   "execution_count": null,
   "metadata": {
    "code_folding": [
     0
    ],
    "hidden": true
   },
   "outputs": [],
   "source": [
    "# visualization grids\n",
    "\n",
    "# 3 in 1\n",
    "g = sns.PairGrid(data)\n",
    "g.map_diag(plt.hist)\n",
    "g.map_upper(plt.scatter)\n",
    "g.map_lower(sns.kdeplot)\n",
    "\n",
    "# Facetgrid: returns nxm where n are cols and m are row\n",
    "g = sns.FacetGrid(tips, col=\"time\",  row=\"smoker\")\n",
    "g = g.map(plt.hist, \"total_bill\").add_legend()   \n",
    "# change hist for scatter or whatever"
   ]
  },
  {
   "cell_type": "code",
   "execution_count": null,
   "metadata": {
    "code_folding": [
     0
    ],
    "hidden": true
   },
   "outputs": [],
   "source": [
    "# visualization matrix/correlation\n",
    "\n",
    "sns.heatmap(data.corr(),cmap='coolwarm',annot=True)\n",
    "\n",
    "\n",
    "pvflights = data.pivot_table(values='passengers',index='month',columns='year')\n",
    "sns.heatmap(pvflights)"
   ]
  },
  {
   "cell_type": "markdown",
   "metadata": {
    "heading_collapsed": true
   },
   "source": [
    "## Others "
   ]
  },
  {
   "cell_type": "markdown",
   "metadata": {
    "hidden": true
   },
   "source": [
    "### Working with arrays\n"
   ]
  },
  {
   "cell_type": "code",
   "execution_count": null,
   "metadata": {
    "hidden": true
   },
   "outputs": [],
   "source": [
    "# vector\n",
    "my_list = [1,2,3]\n",
    "np.array(my_list)\n",
    "\n",
    "np.zeros(3) \n",
    "np.ones(3)"
   ]
  },
  {
   "cell_type": "code",
   "execution_count": null,
   "metadata": {
    "hidden": true
   },
   "outputs": [],
   "source": [
    "# matrix\n",
    "my_matrix = [[1,2,3],[4,5,6],[7,8,9]]\n",
    "np.array(my_matrix)\n",
    "\n",
    "np.zeros((5,5))\n",
    "np.ones((3,3))\n",
    "\n",
    "np.eye(4) # identity matrix of nxn"
   ]
  },
  {
   "cell_type": "code",
   "execution_count": null,
   "metadata": {
    "hidden": true
   },
   "outputs": [],
   "source": [
    "#arange & linspace\n",
    "np.arange(0,11,2)  # between 0 and 11, steps = 2\n",
    "\n",
    "np.linspace(0,10,50)   # 50 evenly spaced points of 0 to 10"
   ]
  },
  {
   "cell_type": "code",
   "execution_count": null,
   "metadata": {
    "hidden": true
   },
   "outputs": [],
   "source": [
    "# methods\n",
    "arr.shape   # returns the dimensions nxm of the matrix/vector\n",
    "arr.reshape(5,5)\n",
    "ranarr.max()\n",
    "ranarr.argmax()   #location of the maximum argument\n",
    "ranarr.dtype"
   ]
  },
  {
   "cell_type": "markdown",
   "metadata": {
    "hidden": true
   },
   "source": [
    "### Working with df "
   ]
  },
  {
   "cell_type": "code",
   "execution_count": null,
   "metadata": {
    "hidden": true
   },
   "outputs": [],
   "source": [
    "# working with df\n",
    "df[['W','Z']]  \n",
    "df.drop('new',axis=1,inplace=True)  \n",
    "\n",
    "df.loc['A']                             # loc needs an index, returns first column A\n",
    "df.iloc[0]                              # iloc needs a number, returns first column A\n",
    "\n",
    "\n",
    "\n",
    "x,y = data.loc[:,data.columns != 'y'], data.loc[:,'y']"
   ]
  },
  {
   "cell_type": "code",
   "execution_count": null,
   "metadata": {
    "hidden": true
   },
   "outputs": [],
   "source": [
    "# conditional selection \n",
    "df[df['W']>0]             # returns a df from the data where the df column W is > 0\n",
    "df[df['W']>0]['Y']        # returns a series (1 dim dataframe) of the Y column where the df column W is > 0\n",
    "df[df['W']>0][['Y','X']]  # returns a df of columns Y&X where the df column W is > 0 \n",
    "\n",
    "df[(df['W']>0) & (df['Y'] > 1)]  #two conditions\n",
    "# instead of and and or, we have to use ampersand (&) and |"
   ]
  },
  {
   "cell_type": "code",
   "execution_count": null,
   "metadata": {
    "hidden": true
   },
   "outputs": [],
   "source": [
    "# Groupby\n",
    "\n",
    "df.groupby('Company')\n",
    "by_comp = df.groupby(\"Company\")\n",
    "by_comp.sum()\n",
    "\n",
    "or\n",
    "\n",
    "df.groupby('Company').mean()          # panda ignores non numeric columns\n",
    "df.groupby('Company').sum() \n",
    "df.groupby('Company').std() \n",
    "df.groupby('Company').min()\n",
    "df.groupby('Company').max()\n",
    "df.groupby('Company').count()\n",
    "df.groupby('Company').describe()"
   ]
  },
  {
   "cell_type": "code",
   "execution_count": null,
   "metadata": {
    "code_folding": [],
    "hidden": true
   },
   "outputs": [],
   "source": [
    "\n"
   ]
  },
  {
   "cell_type": "code",
   "execution_count": null,
   "metadata": {
    "code_folding": [],
    "hidden": true
   },
   "outputs": [],
   "source": []
  },
  {
   "cell_type": "code",
   "execution_count": null,
   "metadata": {
    "code_folding": [],
    "hidden": true
   },
   "outputs": [],
   "source": [
    "# visualization categorical\n",
    "sns.barplot(x,y,data,estimator)  #estimator = np.log    based in the mean\n",
    "sns.countplot(x,data)\n",
    "sns.boxplot(x,y,data,pallete, orient) # pallete='rainbow' orient = 0h'\n",
    "sns.violinplot\n",
    "sns.stripplot(x,y,data,jitter=True, alpha =)\n",
    "sns.swarmplot"
   ]
  },
  {
   "cell_type": "code",
   "execution_count": null,
   "metadata": {
    "code_folding": [],
    "hidden": true
   },
   "outputs": [],
   "source": [
    "# visualization grids\n",
    "\n",
    "# 3 in 1\n",
    "g = sns.PairGrid(data)\n",
    "g.map_diag(plt.hist)\n",
    "g.map_upper(plt.scatter)\n",
    "g.map_lower(sns.kdeplot)\n",
    "\n",
    "# Facetgrid: returns nxm where n are cols and m are row\n",
    "g = sns.FacetGrid(tips, col=\"time\",  row=\"smoker\")\n",
    "g = g.map(plt.hist, \"total_bill\").add_legend()   \n",
    "# change hist for scatter or whatever"
   ]
  },
  {
   "cell_type": "code",
   "execution_count": null,
   "metadata": {
    "hidden": true
   },
   "outputs": [],
   "source": [
    "# visualization matrix/correlation\n",
    "\n",
    "sns.heatmap(data.corr(),cmap='coolwarm',annot=True)\n",
    "\n",
    "\n",
    "pvflights = data.pivot_table(values='passengers',index='month',columns='year')\n",
    "sns.heatmap(pvflights)"
   ]
  },
  {
   "cell_type": "markdown",
   "metadata": {
    "hidden": true
   },
   "source": [
    "###  Working with df\n"
   ]
  },
  {
   "cell_type": "code",
   "execution_count": null,
   "metadata": {
    "hidden": true
   },
   "outputs": [],
   "source": [
    "melt\n",
    "pivot"
   ]
  }
 ],
 "metadata": {
  "hide_input": false,
  "kernelspec": {
   "display_name": "Python 3.6 (tensorflow)",
   "language": "python",
   "name": "tensorflow"
  },
  "language_info": {
   "codemirror_mode": {
    "name": "ipython",
    "version": 3
   },
   "file_extension": ".py",
   "mimetype": "text/x-python",
   "name": "python",
   "nbconvert_exporter": "python",
   "pygments_lexer": "ipython3",
   "version": "3.6.8"
  },
  "toc": {
   "base_numbering": 1,
   "nav_menu": {},
   "number_sections": false,
   "sideBar": true,
   "skip_h1_title": false,
   "title_cell": "Table of Contents",
   "title_sidebar": "Contents",
   "toc_cell": false,
   "toc_position": {},
   "toc_section_display": true,
   "toc_window_display": true
  },
  "varInspector": {
   "cols": {
    "lenName": 16,
    "lenType": 16,
    "lenVar": 40
   },
   "kernels_config": {
    "python": {
     "delete_cmd_postfix": "",
     "delete_cmd_prefix": "del ",
     "library": "var_list.py",
     "varRefreshCmd": "print(var_dic_list())"
    },
    "r": {
     "delete_cmd_postfix": ") ",
     "delete_cmd_prefix": "rm(",
     "library": "var_list.r",
     "varRefreshCmd": "cat(var_dic_list()) "
    }
   },
   "types_to_exclude": [
    "module",
    "function",
    "builtin_function_or_method",
    "instance",
    "_Feature"
   ],
   "window_display": false
  }
 },
 "nbformat": 4,
 "nbformat_minor": 2
}
